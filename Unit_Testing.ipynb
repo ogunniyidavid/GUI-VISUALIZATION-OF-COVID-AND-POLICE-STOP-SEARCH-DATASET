{
 "cells": [
  {
   "cell_type": "code",
   "execution_count": 1,
   "id": "90e5b692",
   "metadata": {},
   "outputs": [
    {
     "name": "stdout",
     "output_type": "stream",
     "text": [
      "['avon-and-somerset', 'bedfordshire', 'cambridgeshire', 'cheshire', 'city-of-london', 'cleveland', 'cumbria', 'derbyshire', 'devon-and-cornwall', 'dorset', 'durham', 'dyfed-powys', 'essex', 'gloucestershire', 'greater-manchester', 'gwent', 'hampshire', 'hertfordshire', 'humberside', 'kent', 'lancashire', 'leicestershire', 'lincolnshire', 'merseyside', 'metropolitan', 'norfolk', 'north-wales', 'north-yorkshire', 'northamptonshire', 'northumbria', 'nottinghamshire', 'northern-ireland', 'south-wales', 'south-yorkshire', 'staffordshire', 'suffolk', 'surrey', 'sussex', 'thames-valley', 'warwickshire', 'west-mercia', 'west-midlands', 'west-yorkshire', 'wiltshire']\n"
     ]
    }
   ],
   "source": [
    "import unittest\n",
    "%run Covid.ipynb  \n",
    "%run Stop_Search.ipynb\n",
    "from pandas.testing import *"
   ]
  },
  {
   "cell_type": "code",
   "execution_count": 2,
   "id": "9bfa77ae",
   "metadata": {
    "scrolled": true
   },
   "outputs": [
    {
     "name": "stderr",
     "output_type": "stream",
     "text": [
      "test_filter_table (__main__.TestData) ... ok\n",
      "\n",
      "----------------------------------------------------------------------\n",
      "Ran 1 test in 0.015s\n",
      "\n",
      "OK\n"
     ]
    }
   ],
   "source": [
    "# Unit testing to make sure the line plot is working\n",
    "class TestData(unittest.TestCase):\n",
    "\n",
    "  \n",
    "    def test_filter_table(self):\n",
    "        self.main_result = (filter_table(df_covid_data, 'Month', 'March')).head(5)\n",
    "        self.expected_result = pd.DataFrame({'age_category': ['Kid', 'Adolescence', 'Mature', 'Adult', 'Old'],\n",
    "                                 'Total cases': [1453, 4027, 12362, 47577, 94839]})\n",
    "        \n",
    "        for i in range(5):\n",
    "            self.assertListEqual(list(self.main_result.values[i]), list(self.expected_result.values[i]))\n",
    "\n",
    "        \n",
    "        \n",
    "        \n",
    "        \n",
    "if __name__ == '__main__':\n",
    "    unittest.main(argv=['ignored', '-v'], exit=False)"
   ]
  },
  {
   "cell_type": "code",
   "execution_count": 4,
   "id": "a8caaec5",
   "metadata": {},
   "outputs": [
    {
     "name": "stderr",
     "output_type": "stream",
     "text": [
      "test_filter_table (__main__.TestData) ... ok\n",
      "\n",
      "----------------------------------------------------------------------\n",
      "Ran 1 test in 0.013s\n",
      "\n",
      "OK\n"
     ]
    }
   ],
   "source": [
    "# Unit testing if exceptions are thrown\n",
    "def test_explore_data_exceptions(self):\n",
    "    with self.assertRaises(Exception):\n",
    "        explore_force_date('hdfgs', 'fdhnvd', 'fgdyy')\n",
    "\n",
    "\n",
    "if __name__ == '__main__':\n",
    "    unittest.main(argv=['ignored', '-v'], exit=False)"
   ]
  },
  {
   "cell_type": "code",
   "execution_count": 5,
   "id": "20e051a7",
   "metadata": {},
   "outputs": [
    {
     "name": "stderr",
     "output_type": "stream",
     "text": [
      "test_filter_table (__main__.TestData) ... ok\n",
      "\n",
      "----------------------------------------------------------------------\n",
      "Ran 1 test in 0.107s\n",
      "\n",
      "OK\n"
     ]
    }
   ],
   "source": [
    "# Unit testing to check if data is fetched properly\n",
    "def test_explore_data(self):\n",
    "        result = examine_force_date('city-of-london', '2020', '1')\n",
    "        expected = \"2020-01-01T02:53:14+00:00\"\n",
    "        self.assertEqual(result[0]['datetime'], expected)\n",
    "        \n",
    "if __name__ == '__main__':\n",
    "    unittest.main(argv=['ignored', '-v'], exit=False)"
   ]
  },
  {
   "cell_type": "code",
   "execution_count": null,
   "id": "d9c7ec4e",
   "metadata": {},
   "outputs": [],
   "source": []
  }
 ],
 "metadata": {
  "kernelspec": {
   "display_name": "Python 3",
   "language": "python",
   "name": "python3"
  },
  "language_info": {
   "codemirror_mode": {
    "name": "ipython",
    "version": 3
   },
   "file_extension": ".py",
   "mimetype": "text/x-python",
   "name": "python",
   "nbconvert_exporter": "python",
   "pygments_lexer": "ipython3",
   "version": "3.8.8"
  }
 },
 "nbformat": 4,
 "nbformat_minor": 5
}
